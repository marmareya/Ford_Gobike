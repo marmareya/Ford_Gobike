{
 "cells": [
  {
   "cell_type": "markdown",
   "metadata": {
    "id": "jbAhcnQcN1Rw",
    "slideshow": {
     "slide_type": "slide"
    }
   },
   "source": [
    "# Ford GoBike\n",
    "## Mariam Ahmed\n",
    "\n",
    "## Preliminary Wrangling\n",
    "\n",
    "> This data set includes information about individual rides made in a bike-sharing system covering the greater San Francisco Bay area with the following fields: \n",
    " - Trip Duration (in seconds)\n",
    " - Start Time and Date\n",
    " - End Time and Date\n",
    " - Start Station ID\n",
    " - Start Station Name\n",
    " - Start Station Latitude\n",
    " - Start Station Longitude\n",
    " - End Station ID\n",
    " - End Station Name\n",
    " - End Station Latitude\n",
    " - End Station Longitude\n",
    " - Bike ID\n",
    " - User Type (\"Subscriber\" = Member or \"Customer\" = Casual)\n",
    " - Member Year of Birth\n",
    " - Member Gender"
   ]
  },
  {
   "cell_type": "code",
   "execution_count": 1,
   "metadata": {
    "id": "Gkg6IGckMik3",
    "slideshow": {
     "slide_type": "slide"
    }
   },
   "outputs": [],
   "source": [
    "# import all packages and set plots to be embedded inline\n",
    "import numpy as np\n",
    "import pandas as pd\n",
    "import matplotlib.pyplot as plt\n",
    "import seaborn as sb\n",
    "import datetime\n",
    "\n",
    "%matplotlib inline"
   ]
  },
  {
   "cell_type": "code",
   "execution_count": 2,
   "metadata": {
    "colab": {
     "base_uri": "https://localhost:8080/",
     "height": 348
    },
    "id": "fYdNscVqOc_Y",
    "outputId": "b9473f02-ddb5-4909-e76f-22d8cfd0c800",
    "slideshow": {
     "slide_type": "slide"
    }
   },
   "outputs": [
    {
     "ename": "FileNotFoundError",
     "evalue": "[Errno 2] File 201902-fordgobike-tripdata.csv does not exist: '201902-fordgobike-tripdata.csv'",
     "output_type": "error",
     "traceback": [
      "\u001b[0;31m---------------------------------------------------------------------------\u001b[0m",
      "\u001b[0;31mFileNotFoundError\u001b[0m                         Traceback (most recent call last)",
      "\u001b[0;32m<ipython-input-2-7cb95aafbb87>\u001b[0m in \u001b[0;36m<module>\u001b[0;34m\u001b[0m\n\u001b[1;32m      1\u001b[0m \u001b[0;31m# Uploads the dataset into a dataframe\u001b[0m\u001b[0;34m\u001b[0m\u001b[0;34m\u001b[0m\u001b[0;34m\u001b[0m\u001b[0m\n\u001b[0;32m----> 2\u001b[0;31m \u001b[0mdf\u001b[0m \u001b[0;34m=\u001b[0m \u001b[0mpd\u001b[0m\u001b[0;34m.\u001b[0m\u001b[0mread_csv\u001b[0m\u001b[0;34m(\u001b[0m\u001b[0;34m\"201902-fordgobike-tripdata.csv\"\u001b[0m\u001b[0;34m)\u001b[0m\u001b[0;34m\u001b[0m\u001b[0;34m\u001b[0m\u001b[0m\n\u001b[0m\u001b[1;32m      3\u001b[0m \u001b[0;31m# Visually check first 5 records\u001b[0m\u001b[0;34m\u001b[0m\u001b[0;34m\u001b[0m\u001b[0;34m\u001b[0m\u001b[0m\n\u001b[1;32m      4\u001b[0m \u001b[0mdf\u001b[0m\u001b[0;34m.\u001b[0m\u001b[0mhead\u001b[0m\u001b[0;34m(\u001b[0m\u001b[0;34m)\u001b[0m\u001b[0;34m\u001b[0m\u001b[0;34m\u001b[0m\u001b[0m\n",
      "\u001b[0;32m~/anaconda3/lib/python3.7/site-packages/pandas/io/parsers.py\u001b[0m in \u001b[0;36mparser_f\u001b[0;34m(filepath_or_buffer, sep, delimiter, header, names, index_col, usecols, squeeze, prefix, mangle_dupe_cols, dtype, engine, converters, true_values, false_values, skipinitialspace, skiprows, skipfooter, nrows, na_values, keep_default_na, na_filter, verbose, skip_blank_lines, parse_dates, infer_datetime_format, keep_date_col, date_parser, dayfirst, cache_dates, iterator, chunksize, compression, thousands, decimal, lineterminator, quotechar, quoting, doublequote, escapechar, comment, encoding, dialect, error_bad_lines, warn_bad_lines, delim_whitespace, low_memory, memory_map, float_precision)\u001b[0m\n\u001b[1;32m    674\u001b[0m         )\n\u001b[1;32m    675\u001b[0m \u001b[0;34m\u001b[0m\u001b[0m\n\u001b[0;32m--> 676\u001b[0;31m         \u001b[0;32mreturn\u001b[0m \u001b[0m_read\u001b[0m\u001b[0;34m(\u001b[0m\u001b[0mfilepath_or_buffer\u001b[0m\u001b[0;34m,\u001b[0m \u001b[0mkwds\u001b[0m\u001b[0;34m)\u001b[0m\u001b[0;34m\u001b[0m\u001b[0;34m\u001b[0m\u001b[0m\n\u001b[0m\u001b[1;32m    677\u001b[0m \u001b[0;34m\u001b[0m\u001b[0m\n\u001b[1;32m    678\u001b[0m     \u001b[0mparser_f\u001b[0m\u001b[0;34m.\u001b[0m\u001b[0m__name__\u001b[0m \u001b[0;34m=\u001b[0m \u001b[0mname\u001b[0m\u001b[0;34m\u001b[0m\u001b[0;34m\u001b[0m\u001b[0m\n",
      "\u001b[0;32m~/anaconda3/lib/python3.7/site-packages/pandas/io/parsers.py\u001b[0m in \u001b[0;36m_read\u001b[0;34m(filepath_or_buffer, kwds)\u001b[0m\n\u001b[1;32m    446\u001b[0m \u001b[0;34m\u001b[0m\u001b[0m\n\u001b[1;32m    447\u001b[0m     \u001b[0;31m# Create the parser.\u001b[0m\u001b[0;34m\u001b[0m\u001b[0;34m\u001b[0m\u001b[0;34m\u001b[0m\u001b[0m\n\u001b[0;32m--> 448\u001b[0;31m     \u001b[0mparser\u001b[0m \u001b[0;34m=\u001b[0m \u001b[0mTextFileReader\u001b[0m\u001b[0;34m(\u001b[0m\u001b[0mfp_or_buf\u001b[0m\u001b[0;34m,\u001b[0m \u001b[0;34m**\u001b[0m\u001b[0mkwds\u001b[0m\u001b[0;34m)\u001b[0m\u001b[0;34m\u001b[0m\u001b[0;34m\u001b[0m\u001b[0m\n\u001b[0m\u001b[1;32m    449\u001b[0m \u001b[0;34m\u001b[0m\u001b[0m\n\u001b[1;32m    450\u001b[0m     \u001b[0;32mif\u001b[0m \u001b[0mchunksize\u001b[0m \u001b[0;32mor\u001b[0m \u001b[0miterator\u001b[0m\u001b[0;34m:\u001b[0m\u001b[0;34m\u001b[0m\u001b[0;34m\u001b[0m\u001b[0m\n",
      "\u001b[0;32m~/anaconda3/lib/python3.7/site-packages/pandas/io/parsers.py\u001b[0m in \u001b[0;36m__init__\u001b[0;34m(self, f, engine, **kwds)\u001b[0m\n\u001b[1;32m    878\u001b[0m             \u001b[0mself\u001b[0m\u001b[0;34m.\u001b[0m\u001b[0moptions\u001b[0m\u001b[0;34m[\u001b[0m\u001b[0;34m\"has_index_names\"\u001b[0m\u001b[0;34m]\u001b[0m \u001b[0;34m=\u001b[0m \u001b[0mkwds\u001b[0m\u001b[0;34m[\u001b[0m\u001b[0;34m\"has_index_names\"\u001b[0m\u001b[0;34m]\u001b[0m\u001b[0;34m\u001b[0m\u001b[0;34m\u001b[0m\u001b[0m\n\u001b[1;32m    879\u001b[0m \u001b[0;34m\u001b[0m\u001b[0m\n\u001b[0;32m--> 880\u001b[0;31m         \u001b[0mself\u001b[0m\u001b[0;34m.\u001b[0m\u001b[0m_make_engine\u001b[0m\u001b[0;34m(\u001b[0m\u001b[0mself\u001b[0m\u001b[0;34m.\u001b[0m\u001b[0mengine\u001b[0m\u001b[0;34m)\u001b[0m\u001b[0;34m\u001b[0m\u001b[0;34m\u001b[0m\u001b[0m\n\u001b[0m\u001b[1;32m    881\u001b[0m \u001b[0;34m\u001b[0m\u001b[0m\n\u001b[1;32m    882\u001b[0m     \u001b[0;32mdef\u001b[0m \u001b[0mclose\u001b[0m\u001b[0;34m(\u001b[0m\u001b[0mself\u001b[0m\u001b[0;34m)\u001b[0m\u001b[0;34m:\u001b[0m\u001b[0;34m\u001b[0m\u001b[0;34m\u001b[0m\u001b[0m\n",
      "\u001b[0;32m~/anaconda3/lib/python3.7/site-packages/pandas/io/parsers.py\u001b[0m in \u001b[0;36m_make_engine\u001b[0;34m(self, engine)\u001b[0m\n\u001b[1;32m   1112\u001b[0m     \u001b[0;32mdef\u001b[0m \u001b[0m_make_engine\u001b[0m\u001b[0;34m(\u001b[0m\u001b[0mself\u001b[0m\u001b[0;34m,\u001b[0m \u001b[0mengine\u001b[0m\u001b[0;34m=\u001b[0m\u001b[0;34m\"c\"\u001b[0m\u001b[0;34m)\u001b[0m\u001b[0;34m:\u001b[0m\u001b[0;34m\u001b[0m\u001b[0;34m\u001b[0m\u001b[0m\n\u001b[1;32m   1113\u001b[0m         \u001b[0;32mif\u001b[0m \u001b[0mengine\u001b[0m \u001b[0;34m==\u001b[0m \u001b[0;34m\"c\"\u001b[0m\u001b[0;34m:\u001b[0m\u001b[0;34m\u001b[0m\u001b[0;34m\u001b[0m\u001b[0m\n\u001b[0;32m-> 1114\u001b[0;31m             \u001b[0mself\u001b[0m\u001b[0;34m.\u001b[0m\u001b[0m_engine\u001b[0m \u001b[0;34m=\u001b[0m \u001b[0mCParserWrapper\u001b[0m\u001b[0;34m(\u001b[0m\u001b[0mself\u001b[0m\u001b[0;34m.\u001b[0m\u001b[0mf\u001b[0m\u001b[0;34m,\u001b[0m \u001b[0;34m**\u001b[0m\u001b[0mself\u001b[0m\u001b[0;34m.\u001b[0m\u001b[0moptions\u001b[0m\u001b[0;34m)\u001b[0m\u001b[0;34m\u001b[0m\u001b[0;34m\u001b[0m\u001b[0m\n\u001b[0m\u001b[1;32m   1115\u001b[0m         \u001b[0;32melse\u001b[0m\u001b[0;34m:\u001b[0m\u001b[0;34m\u001b[0m\u001b[0;34m\u001b[0m\u001b[0m\n\u001b[1;32m   1116\u001b[0m             \u001b[0;32mif\u001b[0m \u001b[0mengine\u001b[0m \u001b[0;34m==\u001b[0m \u001b[0;34m\"python\"\u001b[0m\u001b[0;34m:\u001b[0m\u001b[0;34m\u001b[0m\u001b[0;34m\u001b[0m\u001b[0m\n",
      "\u001b[0;32m~/anaconda3/lib/python3.7/site-packages/pandas/io/parsers.py\u001b[0m in \u001b[0;36m__init__\u001b[0;34m(self, src, **kwds)\u001b[0m\n\u001b[1;32m   1889\u001b[0m         \u001b[0mkwds\u001b[0m\u001b[0;34m[\u001b[0m\u001b[0;34m\"usecols\"\u001b[0m\u001b[0;34m]\u001b[0m \u001b[0;34m=\u001b[0m \u001b[0mself\u001b[0m\u001b[0;34m.\u001b[0m\u001b[0musecols\u001b[0m\u001b[0;34m\u001b[0m\u001b[0;34m\u001b[0m\u001b[0m\n\u001b[1;32m   1890\u001b[0m \u001b[0;34m\u001b[0m\u001b[0m\n\u001b[0;32m-> 1891\u001b[0;31m         \u001b[0mself\u001b[0m\u001b[0;34m.\u001b[0m\u001b[0m_reader\u001b[0m \u001b[0;34m=\u001b[0m \u001b[0mparsers\u001b[0m\u001b[0;34m.\u001b[0m\u001b[0mTextReader\u001b[0m\u001b[0;34m(\u001b[0m\u001b[0msrc\u001b[0m\u001b[0;34m,\u001b[0m \u001b[0;34m**\u001b[0m\u001b[0mkwds\u001b[0m\u001b[0;34m)\u001b[0m\u001b[0;34m\u001b[0m\u001b[0;34m\u001b[0m\u001b[0m\n\u001b[0m\u001b[1;32m   1892\u001b[0m         \u001b[0mself\u001b[0m\u001b[0;34m.\u001b[0m\u001b[0munnamed_cols\u001b[0m \u001b[0;34m=\u001b[0m \u001b[0mself\u001b[0m\u001b[0;34m.\u001b[0m\u001b[0m_reader\u001b[0m\u001b[0;34m.\u001b[0m\u001b[0munnamed_cols\u001b[0m\u001b[0;34m\u001b[0m\u001b[0;34m\u001b[0m\u001b[0m\n\u001b[1;32m   1893\u001b[0m \u001b[0;34m\u001b[0m\u001b[0m\n",
      "\u001b[0;32mpandas/_libs/parsers.pyx\u001b[0m in \u001b[0;36mpandas._libs.parsers.TextReader.__cinit__\u001b[0;34m()\u001b[0m\n",
      "\u001b[0;32mpandas/_libs/parsers.pyx\u001b[0m in \u001b[0;36mpandas._libs.parsers.TextReader._setup_parser_source\u001b[0;34m()\u001b[0m\n",
      "\u001b[0;31mFileNotFoundError\u001b[0m: [Errno 2] File 201902-fordgobike-tripdata.csv does not exist: '201902-fordgobike-tripdata.csv'"
     ]
    }
   ],
   "source": [
    "# Uploads the dataset into a dataframe \n",
    "df = pd.read_csv(\"201902-fordgobike-tripdata.csv\")\n",
    "# Visually check first 5 records\n",
    "df.head()"
   ]
  },
  {
   "cell_type": "code",
   "execution_count": null,
   "metadata": {
    "colab": {
     "base_uri": "https://localhost:8080/"
    },
    "id": "KnIkiwLAOa8w",
    "outputId": "c7420975-8752-4e00-ba22-5eedf867078c",
    "slideshow": {
     "slide_type": "subslide"
    }
   },
   "outputs": [],
   "source": [
    "# View info of the dataframe\n",
    "df.info()"
   ]
  },
  {
   "cell_type": "code",
   "execution_count": null,
   "metadata": {
    "colab": {
     "base_uri": "https://localhost:8080/"
    },
    "id": "Q31SGE06QWMs",
    "outputId": "abe0537a-a03f-4491-acfc-d1228f328691",
    "slideshow": {
     "slide_type": "subslide"
    }
   },
   "outputs": [],
   "source": [
    "# Check for duplicates \n",
    "df.duplicated().sum()"
   ]
  },
  {
   "cell_type": "code",
   "execution_count": null,
   "metadata": {
    "colab": {
     "base_uri": "https://localhost:8080/",
     "height": 320
    },
    "id": "X0Y6HLpXQdme",
    "outputId": "5fcc3d58-5072-402d-c5d1-24e7240e8378",
    "slideshow": {
     "slide_type": "subslide"
    }
   },
   "outputs": [],
   "source": [
    "# View descriptive statistics of the dataframe\n",
    "df.describe()"
   ]
  },
  {
   "cell_type": "markdown",
   "metadata": {
    "id": "xSv14hmOQyo9",
    "slideshow": {
     "slide_type": "slide"
    }
   },
   "source": [
    "### Cleaning Data"
   ]
  },
  {
   "cell_type": "code",
   "execution_count": null,
   "metadata": {
    "id": "LV-aztPmObJU",
    "slideshow": {
     "slide_type": "slide"
    }
   },
   "outputs": [],
   "source": [
    "# Create a different copy to our original dataframe to avoid corrupting it\n",
    "df_clean = df.copy()\n",
    "\n",
    "# Set a timestamp\n",
    "df_clean.start_time = pd.to_datetime(df_clean.start_time)\n",
    "df_clean.end_time = pd.to_datetime(df_clean.end_time)"
   ]
  },
  {
   "cell_type": "code",
   "execution_count": null,
   "metadata": {
    "id": "28a01_l0wNbB",
    "slideshow": {
     "slide_type": "subslide"
    }
   },
   "outputs": [],
   "source": [
    "# Categorize users by their user_type (customers or subscribers), gender, and sharing.\n",
    "df_clean.user_type = df_clean.user_type.astype('category')\n",
    "df_clean.member_gender = df_clean.member_gender.astype('category')\n",
    "df_clean.bike_share_for_all_trip = df_clean.bike_share_for_all_trip.astype('category')"
   ]
  },
  {
   "cell_type": "code",
   "execution_count": null,
   "metadata": {
    "id": "Pji_k6sx3N1u",
    "slideshow": {
     "slide_type": "subslide"
    }
   },
   "outputs": [],
   "source": [
    "# Reset all the IDs to unify the new df objects\n",
    "df_clean.bike_id = df_clean.bike_id.astype(str)\n",
    "df_clean.start_station_id = df_clean.bike_id.astype(str)\n",
    "df_clean.end_station_id = df_clean.bike_id.astype(str)"
   ]
  },
  {
   "cell_type": "code",
   "execution_count": null,
   "metadata": {
    "colab": {
     "base_uri": "https://localhost:8080/"
    },
    "id": "FZGNQke5_sE9",
    "outputId": "c2306984-61bc-4193-c60d-11ec405b6194",
    "slideshow": {
     "slide_type": "subslide"
    }
   },
   "outputs": [],
   "source": [
    "# View info of the edited dataframe \n",
    "df_clean.info()"
   ]
  },
  {
   "cell_type": "markdown",
   "metadata": {
    "id": "n6gBTcucDxjQ",
    "slideshow": {
     "slide_type": "slide"
    }
   },
   "source": [
    "Adding new data *feilds* to enhance the dataset"
   ]
  },
  {
   "cell_type": "code",
   "execution_count": null,
   "metadata": {
    "id": "GdmJiwezBX90",
    "slideshow": {
     "slide_type": "subslide"
    }
   },
   "outputs": [],
   "source": [
    "# Adding users age to the dataset fields\n",
    "# Calculate users age by subtractibg their birth year from the current year\n",
    "df_clean['member_age'] = 2021 - df_clean['member_birth_year']"
   ]
  },
  {
   "cell_type": "code",
   "execution_count": null,
   "metadata": {
    "id": "ulFH_U0JEQer",
    "slideshow": {
     "slide_type": "subslide"
    }
   },
   "outputs": [],
   "source": [
    "# Adding the starting time month to the dataset fields\n",
    "df_clean['start_time_month'] = df_clean['start_time'].dt.month.astype(int)\n",
    "\n",
    "# Adding the starting time weekday to the dataset fields\n",
    "df_clean['start_time_weekday'] = df_clean['start_time'].dt.strftime('%a')\n",
    "\n",
    "# Adding the starting time hour to the dataset fields\n",
    "df_clean['start_time_hour'] = df_clean['start_time'].dt.hour"
   ]
  },
  {
   "cell_type": "code",
   "execution_count": null,
   "metadata": {
    "colab": {
     "base_uri": "https://localhost:8080/",
     "height": 348
    },
    "id": "O2BB8Ju-BYPg",
    "outputId": "c6d8ca33-dc3d-428b-c19e-7eaa18cf405d",
    "slideshow": {
     "slide_type": "subslide"
    }
   },
   "outputs": [],
   "source": [
    "df_clean.head()"
   ]
  },
  {
   "cell_type": "code",
   "execution_count": null,
   "metadata": {
    "colab": {
     "base_uri": "https://localhost:8080/"
    },
    "id": "-dObbBXNBYzu",
    "outputId": "5070abe8-50b7-4435-c389-4f2175ad1846",
    "slideshow": {
     "slide_type": "subslide"
    }
   },
   "outputs": [],
   "source": [
    "df_clean.info()"
   ]
  },
  {
   "cell_type": "markdown",
   "metadata": {
    "id": "2M4GygvOV7GB",
    "slideshow": {
     "slide_type": "slide"
    }
   },
   "source": [
    "In order to represent the variety of the users age, we chose box plot to show that distribution"
   ]
  },
  {
   "cell_type": "code",
   "execution_count": null,
   "metadata": {
    "colab": {
     "base_uri": "https://localhost:8080/",
     "height": 297
    },
    "id": "rVLvbyUNH8Ch",
    "outputId": "6d82c951-b2b6-4528-805f-a1d644cafcda",
    "slideshow": {
     "slide_type": "subslide"
    }
   },
   "outputs": [],
   "source": [
    "# Visually represent the users age distribution using boxplot\n",
    "sb.boxplot(data=df_clean, x='member_age');\n",
    "print(\"The mean of ages:\",df_clean.member_age.mean())"
   ]
  },
  {
   "cell_type": "code",
   "execution_count": null,
   "metadata": {
    "colab": {
     "base_uri": "https://localhost:8080/"
    },
    "id": "e7JwF_V0H8OP",
    "outputId": "1357afd5-aeeb-4794-f094-42a8ed5d8ac5",
    "slideshow": {
     "slide_type": "subslide"
    }
   },
   "outputs": [],
   "source": [
    "df_clean.member_age.describe()"
   ]
  },
  {
   "cell_type": "markdown",
   "metadata": {
    "id": "r4Iefv3nfr9W",
    "slideshow": {
     "slide_type": "subslide"
    }
   },
   "source": [
    "As seen in the plot, there're age outliers that need to be removed for ages over 60."
   ]
  },
  {
   "cell_type": "code",
   "execution_count": null,
   "metadata": {
    "id": "B0m1j2Ccljvb",
    "slideshow": {
     "slide_type": "subslide"
    }
   },
   "outputs": [],
   "source": [
    "# Only keep the data of users below or equal the age of 60\n",
    "df_clean = df_clean.query('member_age <= 60')"
   ]
  },
  {
   "cell_type": "code",
   "execution_count": null,
   "metadata": {
    "colab": {
     "base_uri": "https://localhost:8080/"
    },
    "id": "HoDDnLnidr8c",
    "outputId": "d3439916-f22f-48f0-ef5a-d751037e064b",
    "slideshow": {
     "slide_type": "subslide"
    }
   },
   "outputs": [],
   "source": [
    "df_clean.info()\n",
    "# Save cleaned data\n",
    "df_clean.to_csv('cleaned_file.csv', index=False)"
   ]
  },
  {
   "cell_type": "markdown",
   "metadata": {
    "id": "CGRPTALUOgkL",
    "slideshow": {
     "slide_type": "slide"
    }
   },
   "source": [
    "### What is the structure of your dataset?\n",
    "\n",
    "> The dataset is a record of 183411 bike ride intery recorded in 2019 at San Fransisco Bay area.\n",
    "\n",
    "> This data set includes information about individual rides made in a bike-sharing system covering the greater San Francisco Bay area with the following fields: \n",
    " - Trip Duration (in seconds)\n",
    " - Start Time and Date\n",
    " - End Time and Date\n",
    " - Start Station ID\n",
    " - Start Station Name\n",
    " - Start Station Latitude\n",
    " - Start Station Longitude\n",
    " - End Station ID\n",
    " - End Station Name\n",
    " - End Station Latitude\n",
    " - End Station Longitude\n",
    " - Bike ID\n",
    " - User Type (\"Subscriber\" = Member or \"Customer\" = Casual)\n",
    " - Member Year of Birth\n",
    " - Member Gender\n",
    "\n",
    "> The dataset was furtherly inhanced by given features to be more further informative:\n",
    "- Users age\n",
    "- Usage day & month\n",
    "\n",
    "### What is/are the main feature(s) of interest in your dataset?\n",
    "\n",
    ">  \n",
    "  - The age range and gender of the users.\n",
    "  - The variation of the demand through out the year and week days.\n",
    "\n",
    "### What features in the dataset do you think will help support your investigation into your feature(s) of interest?\n",
    "\n",
    "> I think users related data can give us prediction of the targeted customers and the start time indicates the patterns of the usage."
   ]
  },
  {
   "cell_type": "markdown",
   "metadata": {
    "id": "aBe0qjwWOlzQ",
    "slideshow": {
     "slide_type": "slide"
    }
   },
   "source": [
    "## Univariate Exploration\n",
    "\n",
    "> In this section, investigate distributions of individual variables. If\n",
    "you see unusual points or outliers, take a deeper look to clean things up\n",
    "and prepare yourself to look at relationships between variables."
   ]
  },
  {
   "cell_type": "code",
   "execution_count": null,
   "metadata": {
    "colab": {
     "base_uri": "https://localhost:8080/",
     "height": 405
    },
    "id": "H8JDzlTW-LI-",
    "outputId": "6eeaed5b-2fbf-40c1-a2fe-6c0016808708",
    "slideshow": {
     "slide_type": "slide"
    }
   },
   "outputs": [],
   "source": [
    "# weekday usege \n",
    "\n",
    "weekday = ['Sat', 'Sun', 'Mon', 'Tue', 'Wed', 'Thu', 'Fri']\n",
    "p = sb.catplot(data=df_clean, x='start_time_weekday', kind='count', order = weekday)\n",
    "p.set_axis_labels(\"Weekdays\", \"Bike Trips\")\n",
    "p.fig.suptitle('Weekly usage of the bike share system', y=1.03, fontsize=14, fontweight='semibold');\n",
    "\n"
   ]
  },
  {
   "cell_type": "markdown",
   "metadata": {
    "id": "ydZRZ-E3CEwD",
    "slideshow": {
     "slide_type": "slide"
    }
   },
   "source": [
    "We can see the variety of usage between the weekdays, and that thursdays are the highest, while saturdays are the least."
   ]
  },
  {
   "cell_type": "code",
   "execution_count": null,
   "metadata": {
    "colab": {
     "base_uri": "https://localhost:8080/",
     "height": 405
    },
    "id": "2bwtyZBICuRk",
    "outputId": "99213aea-3dbd-42b1-efb1-ed5b5e79aa25",
    "slideshow": {
     "slide_type": "slide"
    }
   },
   "outputs": [],
   "source": [
    "# hourly usege of the bike sharing system\n",
    "\n",
    "g = sb.catplot(data=df_clean, x='start_time_hour', kind='count')\n",
    "g.set_axis_labels(\"Hours\", \"Bike Trips\")\n",
    "g.fig.suptitle('Hourly usage of the bike share system', y=1.03, fontsize=14, fontweight='semibold');"
   ]
  },
  {
   "cell_type": "markdown",
   "metadata": {
    "id": "hieVIx4ADcAQ",
    "slideshow": {
     "slide_type": "subslide"
    }
   },
   "source": [
    "We can observe flom the plot above that the time around 8 am and 5 pm are the highest usage times."
   ]
  },
  {
   "cell_type": "markdown",
   "metadata": {
    "id": "1mVFYuSBOr0Z",
    "slideshow": {
     "slide_type": "slide"
    }
   },
   "source": [
    "### Discuss the distribution(s) of your variable(s) of interest. Were there any unusual points? Did you need to perform any transformations?\n",
    "\n",
    "> Thursdays are the highest in bikes usage, while Saturdays and Sundays are the least, which makes sense because Saturdays and Sundays are holidays.\n",
    "The time slot around 8 am and 5 pm are the highest usage times since they are the time of going/leaving work.\n",
    "What is unusual is that the dataset was only abount month february of year 2019.\n",
    "\n",
    "### Of the features you investigated, were there any unusual distributions? Did you perform any operations on the data to tidy, adjust, or change the form of the data? If so, why did you do this?\n",
    "\n",
    "> Yes, the age outliers reached over 120 years, and since the majority of users are at the age between 20 and 57 years old with mean 35 years old, I removed the data of users over 60."
   ]
  },
  {
   "cell_type": "markdown",
   "metadata": {
    "id": "jv2XvmS8OxUC",
    "slideshow": {
     "slide_type": "slide"
    }
   },
   "source": [
    "## Bivariate Exploration\n",
    "\n",
    "> In this section, investigate relationships between pairs of variables in your\n",
    "data. Make sure the variables that you cover here have been introduced in some\n",
    "fashion in the previous section (univariate exploration)."
   ]
  },
  {
   "cell_type": "code",
   "execution_count": null,
   "metadata": {
    "colab": {
     "base_uri": "https://localhost:8080/",
     "height": 323
    },
    "id": "nLWafdc_XDyY",
    "outputId": "44bdd620-fa6e-41fa-d51f-8de5335b2923",
    "slideshow": {
     "slide_type": "slide"
    }
   },
   "outputs": [],
   "source": [
    "# Find the amount of the users who are customers and those who are subscribers\n",
    "customer = df_clean.query('user_type == \"Customer\"')['bike_id'].count()\n",
    "subscriber = df_clean.query('user_type == \"Subscriber\"')['bike_id'].count()\n",
    "\n",
    "#normalize\n",
    "n = df_clean['bike_id'].count()\n",
    "ncustomer = customer / n\n",
    "nsubscriber = subscriber / n\n",
    "\n",
    "# Plot for comparison \n",
    "p = sb.countplot(data=df_clean, x=\"user_type\", order=df_clean.user_type.value_counts().index)\n",
    "plt.suptitle('User type split for GoBike sharing system', y=1.03, fontsize=14, fontweight='semibold');\n"
   ]
  },
  {
   "cell_type": "markdown",
   "metadata": {
    "id": "XK_qz5MRfyYT",
    "slideshow": {
     "slide_type": "subslide"
    }
   },
   "source": [
    "We can observe that the bike system is mainly used by subscribers."
   ]
  },
  {
   "cell_type": "code",
   "execution_count": null,
   "metadata": {
    "colab": {
     "base_uri": "https://localhost:8080/",
     "height": 353
    },
    "id": "OqKfYpLWZ4Pa",
    "outputId": "95ce0c82-8356-45ff-a223-77a9291604ad",
    "slideshow": {
     "slide_type": "subslide"
    }
   },
   "outputs": [],
   "source": [
    "# Explore the usage of each user category in the weekdays\n",
    "weekday = ['Sat', 'Sun', 'Mon', 'Tue', 'Wed', 'Thu', 'Fri']\n",
    "p = sb.catplot(data=df_clean, x='start_time_weekday', col='user_type', kind='count', order = weekday)\n",
    "p.set_axis_labels(\"Weekdays\", \"Bike Trips\")\n",
    "p.fig.suptitle('Daily usage of the bike share system per user type', y=1.03, fontsize=14, fontweight='semibold');\n"
   ]
  },
  {
   "cell_type": "markdown",
   "metadata": {
    "id": "br-GC0gUg_W6",
    "slideshow": {
     "slide_type": "subslide"
    }
   },
   "source": [
    "We can see the different trends between the two-user category, though in both categories bikes trips are higher on Thursdays."
   ]
  },
  {
   "cell_type": "code",
   "execution_count": null,
   "metadata": {
    "colab": {
     "base_uri": "https://localhost:8080/",
     "height": 353
    },
    "id": "A7Pk8gk6hoMK",
    "outputId": "10df7e39-6f36-48d6-8aaf-9fd3856b47e3",
    "slideshow": {
     "slide_type": "slide"
    }
   },
   "outputs": [],
   "source": [
    "# Hourly usage for both user categories\n",
    "p = sb.catplot(data=df_clean, x='start_time_hour', col='user_type', kind='count')\n",
    "p.set_axis_labels(\"Hour\", \"Bike Trips\")\n",
    "p.fig.suptitle('Hourly usage of the bike share system per user type', y=1.03, fontsize=14, fontweight='semibold');\n",
    "\n"
   ]
  },
  {
   "cell_type": "markdown",
   "metadata": {
    "id": "7yzrwE3RiMrA",
    "slideshow": {
     "slide_type": "subslide"
    }
   },
   "source": [
    "Both user categories seem to follow the same pattern, with the difference of the ammount of users."
   ]
  },
  {
   "cell_type": "code",
   "execution_count": null,
   "metadata": {
    "colab": {
     "base_uri": "https://localhost:8080/",
     "height": 341
    },
    "id": "4RlcyraSj4eQ",
    "outputId": "d1cf499e-7e48-4029-840e-ceccf1d0ab73",
    "slideshow": {
     "slide_type": "slide"
    }
   },
   "outputs": [],
   "source": [
    "# Usage duration per user category\n",
    "\n",
    "# first we remove the duration_sec outliers by the limit  of an hour 60x60\n",
    "d = df_clean.query('duration_sec < 3600')\n",
    "p = sb.catplot(data=d, y='duration_sec', col='user_type', kind='box')\n",
    "p.set_axis_labels(\"\", \"Trips duration\")\n",
    "p.fig.suptitle('The duration of using the bike share system per user type by seconds', y=1.03, fontsize=14, fontweight='semibold');"
   ]
  },
  {
   "cell_type": "markdown",
   "metadata": {
    "id": "Ym7D8fQkmY7w",
    "slideshow": {
     "slide_type": "subslide"
    }
   },
   "source": [
    "We can observe from the above box plots that the customers trips durations are longer than subscribers."
   ]
  },
  {
   "cell_type": "markdown",
   "metadata": {
    "id": "7OCVrMGiO21j",
    "slideshow": {
     "slide_type": "slide"
    }
   },
   "source": [
    "### Talk about some of the relationships you observed in this part of the investigation. How did the feature(s) of interest vary with other features in the dataset?\n",
    "\n",
    "> First of all, we could observe that the bike system is mainly used by subscribers, though both of the subscribers and customers followed the almost the same weekday and hourly pattern of bike trips. Moreover, we found that customers trips durations are longer than subscribers.\n",
    "\n",
    "### Did you observe any interesting relationships between the other features (not the main feature(s) of interest)?\n",
    "\n",
    "We observed the differnce in the trip duration between customers and subscribers, that customers trips are longer than for subscribers, probably because they are tourests, while the subscribers on the other hand use the system mainly for daily purposes and quick rides to and from work/school."
   ]
  },
  {
   "cell_type": "markdown",
   "metadata": {
    "id": "tRJxsx5bO9ai",
    "slideshow": {
     "slide_type": "slide"
    }
   },
   "source": [
    "## Multivariate Exploration\n",
    "\n",
    "> Create plots of three or more variables to investigate your data even\n",
    "further. Make sure that your investigations are justified, and follow from\n",
    "your work in the previous sections."
   ]
  },
  {
   "cell_type": "code",
   "execution_count": null,
   "metadata": {
    "colab": {
     "base_uri": "https://localhost:8080/",
     "height": 282
    },
    "id": "s23vWsZ9paiV",
    "outputId": "bd8793c5-66d6-4556-d089-433791879080",
    "slideshow": {
     "slide_type": "slide"
    }
   },
   "outputs": [],
   "source": [
    "# Plot the gender difference in each user category\n",
    "p = sb.countplot(data=df_clean, x='user_type', hue='member_gender', order=df_clean.user_type.value_counts().index)\n"
   ]
  },
  {
   "cell_type": "markdown",
   "metadata": {
    "id": "lY1iwDgoqu3B",
    "slideshow": {
     "slide_type": "subslide"
    }
   },
   "source": [
    "We can see that males are more users in both users categories."
   ]
  },
  {
   "cell_type": "code",
   "execution_count": null,
   "metadata": {
    "colab": {
     "base_uri": "https://localhost:8080/",
     "height": 316
    },
    "id": "3wQ-X039tWR6",
    "outputId": "58a3e47c-09c1-4937-8b6f-aa6ce25b9d17",
    "slideshow": {
     "slide_type": "slide"
    }
   },
   "outputs": [],
   "source": [
    "# Explore the usage by gender for each user category in the weekdays\n",
    "weekday = ['Sat', 'Sun', 'Mon', 'Tue', 'Wed', 'Thu', 'Fri']\n",
    "p = sb.catplot(data=df_clean, x='start_time_weekday', col='user_type', hue='member_gender', kind='count', order = weekday)\n",
    "p.set_axis_labels(\"Weekdays\", \"Bike Trips\")\n",
    "p.fig.suptitle('Weekly usage of the bike share system per user type and gender', y=1.03, fontsize=14, fontweight='semibold');"
   ]
  },
  {
   "cell_type": "markdown",
   "metadata": {
    "id": "Bysvy_x-t1Vs",
    "slideshow": {
     "slide_type": "subslide"
    }
   },
   "source": [
    "However male users are more in both users categories, they are following the same pattern through out the week days."
   ]
  },
  {
   "cell_type": "code",
   "execution_count": null,
   "metadata": {
    "colab": {
     "base_uri": "https://localhost:8080/",
     "height": 299
    },
    "id": "bHeW8P7JuTy0",
    "outputId": "70a37b55-0944-480b-e32c-fdfbc8954ff8",
    "slideshow": {
     "slide_type": "slide"
    }
   },
   "outputs": [],
   "source": [
    "# Hourly usage by gender for both users categories\n",
    "p = sb.catplot(data=df_clean, x='start_time_hour', col='user_type', hue='member_gender', kind='count')\n",
    "p.set_axis_labels(\"Hour\", \"Bike Trips\")\n",
    "g.fig.suptitle('Hourly usage of the bike share system per user type and gender', y=1.03, fontsize=14, fontweight='semibold');"
   ]
  },
  {
   "cell_type": "markdown",
   "metadata": {
    "id": "5xnetaJvuuWn",
    "slideshow": {
     "slide_type": "subslide"
    }
   },
   "source": [
    "we can observe that both genders in both user categories are following the same pattern through day ours."
   ]
  },
  {
   "cell_type": "code",
   "execution_count": null,
   "metadata": {
    "colab": {
     "base_uri": "https://localhost:8080/",
     "height": 391
    },
    "id": "-aZNHlGVvJ3u",
    "outputId": "00734f3f-3c89-4a2b-f860-85513886b459",
    "slideshow": {
     "slide_type": "slide"
    }
   },
   "outputs": [],
   "source": [
    "# Usage duration for both genders per user category\n",
    "p = sb.catplot(data=df_clean ,x='user_type', y='duration_sec', hue='member_gender', kind='bar')\n",
    "p.set_axis_labels(\"\", \"Trips duration\")\n",
    "p.fig.suptitle('Trip duration per user type and gender', y=1.03, fontsize=14, fontweight='semibold');"
   ]
  },
  {
   "cell_type": "markdown",
   "metadata": {
    "id": "kbAvBWjPwYok",
    "slideshow": {
     "slide_type": "subslide"
    }
   },
   "source": [
    "We can observe from the plot above that females take longer durations in their bike rides than men for both user types cases."
   ]
  },
  {
   "cell_type": "markdown",
   "metadata": {
    "id": "NywB7UdvO-4U",
    "slideshow": {
     "slide_type": "slide"
    }
   },
   "source": [
    "### Talk about some of the relationships you observed in this part of the investigation. Were there features that strengthened each other in terms of looking at your feature(s) of interest?\n",
    "\n",
    "> We observed that males are more in both users categories, but however, they are following the same pattern through out the week days as well as through out the daily hours. while females take longer trips than men for both user types cases.\n",
    "\n",
    "### Were there any interesting or surprising interactions between features?\n",
    "\n",
    "> I found it intersting that both males and females, regardless of their amount they both follow almost the same pattern"
   ]
  }
 ],
 "metadata": {
  "celltoolbar": "Slideshow",
  "colab": {
   "collapsed_sections": [],
   "name": "project3.ipynb",
   "provenance": [],
   "toc_visible": true
  },
  "kernelspec": {
   "display_name": "Python 3",
   "language": "python",
   "name": "python3"
  },
  "language_info": {
   "codemirror_mode": {
    "name": "ipython",
    "version": 3
   },
   "file_extension": ".py",
   "mimetype": "text/x-python",
   "name": "python",
   "nbconvert_exporter": "python",
   "pygments_lexer": "ipython3",
   "version": "3.7.3"
  }
 },
 "nbformat": 4,
 "nbformat_minor": 1
}
